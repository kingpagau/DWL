{
 "cells": [
  {
   "cell_type": "code",
   "execution_count": 1,
   "id": "834344ab",
   "metadata": {},
   "outputs": [],
   "source": [
    "import psycopg2\n",
    "import psycopg2.extras as extras\n",
    "\n",
    "import requests\n",
    "import time\n",
    "import pandas as pd\n",
    "import numpy as np"
   ]
  },
  {
   "cell_type": "code",
   "execution_count": 2,
   "id": "54ce4258",
   "metadata": {},
   "outputs": [],
   "source": [
    "# access source RDS source database (datalake)\n",
    "try:\n",
    "    conn = psycopg2.connect(\"host=aoe21.cob0rzy4a66o.us-east-1.rds.amazonaws.com dbname=aoe21 user=tico password=1234567890\")\n",
    "except psycopg2.Error as e:\n",
    "    print(\"Error: Could not make connection to the Postgres database\")\n",
    "    print(e)\n",
    "    \n",
    "# establish cursor for source\n",
    "try:\n",
    "    cur = conn.cursor()\n",
    "except psycopg2.Error as e:\n",
    "    print(\"Error: Could not get curser to the Database\")\n",
    "    print(e)\n",
    "conn.set_session(autocommit = True)"
   ]
  },
  {
   "cell_type": "code",
   "execution_count": 3,
   "id": "6bf37215",
   "metadata": {},
   "outputs": [],
   "source": [
    "# access target RDS target database (datawarehouse)\n",
    "try:\n",
    "    conn_target = psycopg2.connect(\"host=aoe2warehouse.cm7nj2633ign.us-east-1.rds.amazonaws.com dbname=aoe2warehouse user=pasci password=123456789\")\n",
    "except psycopg2.Error as e:\n",
    "    print(\"Error: Could not make connection to the Postgres database\")\n",
    "    print(e)\n",
    "    \n",
    "# establish cursor for target\n",
    "try:\n",
    "    cur_target = conn_target.cursor()\n",
    "except psycopg2.Error as e:\n",
    "    print(\"Error: Could not get curser to the Database\")\n",
    "    print(e)\n",
    "conn_target.set_session(autocommit = True)"
   ]
  },
  {
   "cell_type": "code",
   "execution_count": 4,
   "id": "b1179ada",
   "metadata": {},
   "outputs": [],
   "source": [
    "postgreSQL_select_Query = \"SELECT * FROM match_history\"\n",
    "cur.execute(postgreSQL_select_Query)\n",
    "\n",
    "#Select all data from table player_count\n",
    "match_history = cur.fetchall()\n",
    "match_history = pd.DataFrame(match_history)"
   ]
  },
  {
   "cell_type": "code",
   "execution_count": 5,
   "id": "4fdd7525",
   "metadata": {},
   "outputs": [],
   "source": [
    "#match_history.head()"
   ]
  },
  {
   "cell_type": "code",
   "execution_count": 6,
   "id": "18ebb345",
   "metadata": {},
   "outputs": [],
   "source": [
    "match_history.columns =['match_id', 'map', 'server', 'started', 'finished', 'steam_id_a', 'steam_id_b', 'country_a', 'country_b', 'rating_a', 'rating_b', 'rating_change_a', 'rating_change_b', 'civilization_a', 'civilization_b', 'win_a', 'win_b']"
   ]
  },
  {
   "cell_type": "code",
   "execution_count": 7,
   "id": "8defce5d",
   "metadata": {},
   "outputs": [],
   "source": [
    "#match_history.head()"
   ]
  },
  {
   "cell_type": "code",
   "execution_count": 8,
   "id": "758a3a33",
   "metadata": {},
   "outputs": [],
   "source": [
    "# create dublicate\n",
    "match_history_adjusted = match_history"
   ]
  },
  {
   "cell_type": "code",
   "execution_count": 9,
   "id": "b38157b1",
   "metadata": {},
   "outputs": [],
   "source": [
    "# rename map to map_id\n",
    "match_history.rename(columns = {\"map\": \"map_id\"}, inplace = True)"
   ]
  },
  {
   "cell_type": "code",
   "execution_count": 10,
   "id": "ab8ee294",
   "metadata": {},
   "outputs": [],
   "source": [
    "# delete matches with no winner or steam id\n",
    "# those matches are not suitable for the visualization\n",
    "match_history_adjusted = match_history_adjusted.dropna(axis = 0, subset = [\"win_a\"])\n",
    "match_history_adjusted = match_history_adjusted.dropna(axis = 0, subset = [\"win_b\"])\n",
    "match_history_adjusted = match_history_adjusted.dropna(axis = 0, subset = [\"steam_id_a\"])\n",
    "match_history_adjusted = match_history_adjusted.dropna(axis = 0, subset = [\"steam_id_b\"])"
   ]
  },
  {
   "cell_type": "code",
   "execution_count": 11,
   "id": "00863f53",
   "metadata": {},
   "outputs": [],
   "source": [
    "# drop rating_change_a and rating_change_b\n",
    "# information not suitable for the visualization\n",
    "match_history_adjusted = match_history_adjusted.drop([\"rating_change_a\", \"rating_change_b\"], axis = 1)"
   ]
  },
  {
   "cell_type": "code",
   "execution_count": 12,
   "id": "bd861363",
   "metadata": {},
   "outputs": [],
   "source": [
    "# categorize matchups into winner and loser information instead of a and b\n",
    "match_history_adjusted[\"steam_id_win\"] = match_history_adjusted.apply(lambda x: x[\"steam_id_a\"] if x[\"win_a\"] == True else x[\"steam_id_b\"], axis = 1)\n",
    "match_history_adjusted[\"steam_id_lose\"] = match_history_adjusted.apply(lambda x: x[\"steam_id_b\"] if x[\"win_a\"] == True else x[\"steam_id_a\"], axis = 1)\n",
    "match_history_adjusted[\"country_win\"] = match_history_adjusted.apply(lambda x: x[\"country_a\"] if x[\"win_a\"] == True else x[\"country_b\"], axis = 1)\n",
    "match_history_adjusted[\"country_lose\"] = match_history_adjusted.apply(lambda x: x[\"country_b\"] if x[\"win_a\"] == True else x[\"country_a\"], axis = 1)\n",
    "match_history_adjusted[\"rating_win\"] = match_history_adjusted.apply(lambda x: x[\"rating_a\"] if x[\"win_a\"] == True else x[\"rating_b\"], axis = 1)\n",
    "match_history_adjusted[\"rating_lose\"] = match_history_adjusted.apply(lambda x: x[\"rating_b\"] if x[\"win_a\"] == True else x[\"rating_a\"], axis = 1)\n",
    "match_history_adjusted[\"civilization_win\"] = match_history_adjusted.apply(lambda x: x[\"civilization_a\"] if x[\"win_a\"] == True else x[\"civilization_b\"], axis = 1)\n",
    "match_history_adjusted[\"civilization_lose\"] = match_history_adjusted.apply(lambda x: x[\"civilization_b\"] if x[\"win_a\"] == True else x[\"civilization_a\"], axis = 1)"
   ]
  },
  {
   "cell_type": "code",
   "execution_count": 13,
   "id": "d8264251",
   "metadata": {},
   "outputs": [],
   "source": [
    "request = requests.get(\"https://aoe2.net/api/strings?game=aoe2de&language=en\")\n",
    "request = request.json()\n",
    "#request"
   ]
  },
  {
   "cell_type": "code",
   "execution_count": 14,
   "id": "e6b22af8",
   "metadata": {},
   "outputs": [],
   "source": [
    "# read in civilization keys\n",
    "civilizations = request[\"civ\"]\n",
    "civilizations = pd.DataFrame.from_dict(civilizations)\n",
    "#civilizations"
   ]
  },
  {
   "cell_type": "code",
   "execution_count": 15,
   "id": "28dff5f8",
   "metadata": {},
   "outputs": [],
   "source": [
    "# replace civilization key with civilization name for civilization_win\n",
    "match_history_adjusted = pd.merge(match_history_adjusted, civilizations, how = \"left\", left_on = \"civilization_win\", right_on = \"id\")\n",
    "match_history_adjusted = match_history_adjusted.drop([\"civilization_win\", \"id\"], axis = 1)\n",
    "match_history_adjusted = match_history_adjusted.rename(columns = {\"string\": \"civilization_win\"})\n",
    "#match_history_adjusted"
   ]
  },
  {
   "cell_type": "code",
   "execution_count": 16,
   "id": "b0802c31",
   "metadata": {},
   "outputs": [],
   "source": [
    "# replace civilization key with civilization name for civilization_lose\n",
    "match_history_adjusted = pd.merge(match_history_adjusted, civilizations, how = \"left\", left_on = \"civilization_lose\", right_on = \"id\")\n",
    "match_history_adjusted = match_history_adjusted.drop([\"civilization_lose\", \"id\"], axis = 1)\n",
    "match_history_adjusted = match_history_adjusted.rename(columns = {\"string\": \"civilization_lose\"})\n",
    "#match_history_adjusted"
   ]
  },
  {
   "cell_type": "code",
   "execution_count": 17,
   "id": "6141ac6b",
   "metadata": {},
   "outputs": [],
   "source": [
    "# read in map keys\n",
    "maps = request[\"map_type\"]\n",
    "maps = pd.DataFrame.from_dict(maps)\n",
    "#maps"
   ]
  },
  {
   "cell_type": "code",
   "execution_count": 18,
   "id": "576bc9fe",
   "metadata": {},
   "outputs": [],
   "source": [
    "# replace map key with map name\n",
    "match_history_adjusted = pd.merge(match_history_adjusted, maps, how = \"left\", left_on = \"map_id\", right_on = \"id\")\n",
    "match_history_adjusted = match_history_adjusted.drop([\"map_id\", \"id\"], axis = 1)\n",
    "match_history_adjusted = match_history_adjusted.rename(columns = {\"string\": \"map\"})\n",
    "#match_history_adjusted"
   ]
  },
  {
   "cell_type": "code",
   "execution_count": 19,
   "id": "42db3562",
   "metadata": {},
   "outputs": [],
   "source": [
    "# decode country keys via additional api\n",
    "request = requests.get(\"https://restcountries.com/v3.1/all\")\n",
    "request = request.json()\n",
    "#request"
   ]
  },
  {
   "cell_type": "code",
   "execution_count": 20,
   "id": "537dbd0f",
   "metadata": {},
   "outputs": [],
   "source": [
    "# read in country keys\n",
    "countries_common_name = [d[\"name\"][\"common\"] for d in request]\n",
    "countries_cca2 = [d[\"cca2\"] for d in request]\n",
    "countries = {\"common_name\": countries_common_name, \"cca2\": countries_cca2}\n",
    "countries = pd.DataFrame(countries)\n",
    "#countries"
   ]
  },
  {
   "cell_type": "code",
   "execution_count": 21,
   "id": "c2f2a6cc",
   "metadata": {},
   "outputs": [],
   "source": [
    "# replace country key with country name for country_win\n",
    "match_history_adjusted = pd.merge(match_history_adjusted, countries, how = \"left\", left_on = \"country_win\", right_on = \"cca2\")\n",
    "match_history_adjusted = match_history_adjusted.drop([\"country_win\", \"cca2\"], axis = 1)\n",
    "match_history_adjusted = match_history_adjusted.rename(columns = {\"common_name\": \"country_win\"})\n",
    "#match_history_adjusted"
   ]
  },
  {
   "cell_type": "code",
   "execution_count": 22,
   "id": "3c9079cd",
   "metadata": {},
   "outputs": [],
   "source": [
    "# replace country key with country name for country_lose\n",
    "match_history_adjusted = pd.merge(match_history_adjusted, countries, how = \"left\", left_on = \"country_lose\", right_on = \"cca2\")\n",
    "match_history_adjusted = match_history_adjusted.drop([\"country_lose\", \"cca2\"], axis = 1)\n",
    "match_history_adjusted = match_history_adjusted.rename(columns = {\"common_name\": \"country_lose\"})\n",
    "#match_history_adjusted"
   ]
  },
  {
   "cell_type": "code",
   "execution_count": 23,
   "id": "1b12e1a0",
   "metadata": {},
   "outputs": [],
   "source": [
    "# calculate match duration in minutes\n",
    "match_history_adjusted[\"duration_min\"] = match_history_adjusted[\"finished\"] - match_history_adjusted[\"started\"]\n",
    "match_history_adjusted[\"duration_min\"] = match_history_adjusted[\"duration_min\"] / 60\n",
    "match_history_adjusted[\"duration_min\"] = round(match_history_adjusted[\"duration_min\"])\n",
    "#match_history_adjusted"
   ]
  },
  {
   "cell_type": "code",
   "execution_count": 24,
   "id": "a17b891e",
   "metadata": {},
   "outputs": [],
   "source": [
    "# unix_time_stamp to datetime for started\n",
    "match_history_adjusted[\"started_datetime\"] = pd.to_datetime(match_history_adjusted[\"started\"], unit = \"s\")\n",
    "match_history_adjusted = match_history_adjusted.drop([\"started\"], axis = 1)\n",
    "#match_history_adjusted"
   ]
  },
  {
   "cell_type": "code",
   "execution_count": 25,
   "id": "81504c5f",
   "metadata": {},
   "outputs": [],
   "source": [
    "# unix_time_stamp to datetime for finished\n",
    "match_history_adjusted[\"finished_datetime\"] = pd.to_datetime(match_history_adjusted[\"finished\"], unit = \"s\")\n",
    "match_history_adjusted = match_history_adjusted.drop([\"finished\"], axis = 1)\n",
    "#match_history_adjusted"
   ]
  },
  {
   "cell_type": "code",
   "execution_count": 26,
   "id": "bcfd5ab7",
   "metadata": {},
   "outputs": [],
   "source": [
    "# convert datatypes\n",
    "match_history_adjusted[\"steam_id_win\"] = match_history_adjusted[\"steam_id_win\"].astype(\"Int64\")\n",
    "match_history_adjusted[\"steam_id_lose\"] = match_history_adjusted[\"steam_id_lose\"].astype(\"Int64\")\n",
    "#match_history_adjusted[\"rating_win\"] = match_history_adjusted[\"rating_win\"].fillna(0).astype(\"Int64\")\n",
    "#match_history_adjusted[\"rating_lose\"] = match_history_adjusted[\"rating_lose\"].fillna(0).astype(\"Int64\")\n",
    "match_history_adjusted[\"duration_min\"] = match_history_adjusted[\"duration_min\"].astype(\"Int64\")\n",
    "#match_history_adjusted.head()"
   ]
  },
  {
   "cell_type": "code",
   "execution_count": 27,
   "id": "a3b5766a",
   "metadata": {},
   "outputs": [],
   "source": [
    "#match_history_adjusted.min()"
   ]
  },
  {
   "cell_type": "code",
   "execution_count": 28,
   "id": "8fa33a2b",
   "metadata": {},
   "outputs": [],
   "source": [
    "#list(match_history_adjusted.columns.values)"
   ]
  },
  {
   "cell_type": "code",
   "execution_count": 29,
   "id": "7275e2ad",
   "metadata": {},
   "outputs": [],
   "source": [
    "#cur_target.execute(\"DROP TABLE match_history_adjusted;\")"
   ]
  },
  {
   "cell_type": "code",
   "execution_count": 30,
   "id": "9c66ddb1",
   "metadata": {},
   "outputs": [],
   "source": [
    "#Create Table if it not exists\n",
    "cur_target.execute(\"CREATE TABLE IF NOT EXISTS match_history_adjusted (match_id int, server varchar(100), steam_id_a bigint, steam_id_b bigint, country_a varchar(100), country_b varchar(100), rating_a varchar(100), rating_b varchar(100), civilization_a int, civilization_b int, win_a bool, win_b bool, steam_id_win bigint ,steam_id_lose bigint, rating_win varchar(100), rating_lose varchar(100), civilization_win varchar(100), civilization_lose varchar(100), map varchar(100), country_win varchar(100), country_lose varchar(100), duration_min int, started_datetime timestamp, finished_datetime timestamp);\")"
   ]
  },
  {
   "cell_type": "code",
   "execution_count": 31,
   "id": "901f314b",
   "metadata": {},
   "outputs": [],
   "source": [
    "def execute_values(conn, df, table):\n",
    "  \n",
    "    tuples = [tuple(x) for x in df.to_numpy()]\n",
    "  \n",
    "    cols = ','.join(list(df.columns))\n",
    "    # SQL query to execute\n",
    "    query = \"INSERT INTO %s(%s) VALUES %%s\" % (table, cols)\n",
    "    cursor = conn.cursor()\n",
    "    try:\n",
    "        extras.execute_values(cursor, query, tuples)\n",
    "        conn.commit()\n",
    "    except (Exception, psycopg2.DatabaseError) as error:\n",
    "        print(\"Error: %s\" % error)\n",
    "        conn.rollback()\n",
    "        cursor.close()\n",
    "        return 1\n",
    "    print(\"the dataframe is inserted\")\n",
    "    cursor.close()"
   ]
  },
  {
   "cell_type": "code",
   "execution_count": 32,
   "id": "bb376200",
   "metadata": {},
   "outputs": [
    {
     "name": "stdout",
     "output_type": "stream",
     "text": [
      "the dataframe is inserted\n"
     ]
    }
   ],
   "source": [
    "execute_values(conn_target, match_history_adjusted, 'match_history_adjusted')"
   ]
  },
  {
   "cell_type": "code",
   "execution_count": null,
   "id": "66061010",
   "metadata": {},
   "outputs": [],
   "source": []
  },
  {
   "cell_type": "code",
   "execution_count": null,
   "id": "99a52b5f",
   "metadata": {},
   "outputs": [],
   "source": []
  },
  {
   "cell_type": "code",
   "execution_count": null,
   "id": "c7ffe61c",
   "metadata": {},
   "outputs": [],
   "source": []
  }
 ],
 "metadata": {
  "kernelspec": {
   "display_name": "Python 3 (ipykernel)",
   "language": "python",
   "name": "python3"
  },
  "language_info": {
   "codemirror_mode": {
    "name": "ipython",
    "version": 3
   },
   "file_extension": ".py",
   "mimetype": "text/x-python",
   "name": "python",
   "nbconvert_exporter": "python",
   "pygments_lexer": "ipython3",
   "version": "3.8.5"
  },
  "toc": {
   "base_numbering": 1,
   "nav_menu": {},
   "number_sections": true,
   "sideBar": true,
   "skip_h1_title": false,
   "title_cell": "Table of Contents",
   "title_sidebar": "Contents",
   "toc_cell": false,
   "toc_position": {},
   "toc_section_display": true,
   "toc_window_display": false
  }
 },
 "nbformat": 4,
 "nbformat_minor": 5
}
