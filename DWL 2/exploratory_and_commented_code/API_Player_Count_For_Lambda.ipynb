{
 "cells": [
  {
   "cell_type": "code",
   "execution_count": 1,
   "id": "75e468ef",
   "metadata": {
    "scrolled": true
   },
   "outputs": [],
   "source": [
    "import psycopg2\n",
    "import time\n",
    "import requests\n",
    "import pandas as pd"
   ]
  },
  {
   "cell_type": "code",
   "execution_count": 2,
   "id": "f9a4be7e",
   "metadata": {},
   "outputs": [],
   "source": [
    "# access database\n",
    "try:\n",
    "    conn = psycopg2.connect(\"host=aoe21.cob0rzy4a66o.us-east-1.rds.amazonaws.com dbname=aoe21 user=tico password=1234567890\")\n",
    "except psycopg2.Error as e:\n",
    "    print(\"Error: Could not make connection to the Postgres database\")\n",
    "    print(e)"
   ]
  },
  {
   "cell_type": "code",
   "execution_count": 3,
   "id": "f52572ef",
   "metadata": {},
   "outputs": [],
   "source": [
    "# establish cursor\n",
    "try:\n",
    "    cur = conn.cursor()\n",
    "except psycopg2.Error as e:\n",
    "    print(\"Error: Could not get curser to the Database\")\n",
    "    print(e)\n",
    "conn.set_session(autocommit = True)"
   ]
  },
  {
   "cell_type": "code",
   "execution_count": 4,
   "id": "7f5be44f",
   "metadata": {},
   "outputs": [],
   "source": [
    "# wait until time has full tens of minutes\n",
    "unix_time_stamp = int(time.time())\n",
    "while (unix_time_stamp % 600) != 0: # 600 for 10 min\n",
    "    unix_time_stamp = int(time.time())\n",
    "\n",
    "# api request\n",
    "request = requests.get(\"https://api.steampowered.com/ISteamUserStats/GetNumberOfCurrentPlayers/v1/?format=json&appid=813780\")\n",
    "request = request.json()\n",
    "\n",
    "# extract player_count\n",
    "player_count = request[\"response\"][\"player_count\"]\n",
    "\n",
    "# insert data into table\n",
    "cur.execute(\"INSERT INTO player_count(unix_time_stamp, player_count) VALUES (%s , %s);\", (unix_time_stamp, player_count))"
   ]
  }
 ],
 "metadata": {
  "kernelspec": {
   "display_name": "Python 3 (ipykernel)",
   "language": "python",
   "name": "python3"
  },
  "language_info": {
   "codemirror_mode": {
    "name": "ipython",
    "version": 3
   },
   "file_extension": ".py",
   "mimetype": "text/x-python",
   "name": "python",
   "nbconvert_exporter": "python",
   "pygments_lexer": "ipython3",
   "version": "3.8.5"
  },
  "toc": {
   "base_numbering": 1,
   "nav_menu": {},
   "number_sections": true,
   "sideBar": true,
   "skip_h1_title": false,
   "title_cell": "Table of Contents",
   "title_sidebar": "Contents",
   "toc_cell": false,
   "toc_position": {},
   "toc_section_display": true,
   "toc_window_display": false
  }
 },
 "nbformat": 4,
 "nbformat_minor": 5
}
